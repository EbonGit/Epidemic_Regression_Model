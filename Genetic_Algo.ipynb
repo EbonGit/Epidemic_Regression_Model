{
  "cells": [
    {
      "cell_type": "code",
      "execution_count": null,
      "metadata": {
        "id": "VIys5qWg8HM2"
      },
      "outputs": [],
      "source": [
        "import random\n",
        "import numpy as np\n",
        "import tensorflow as tf\n",
        "from tensorflow import keras\n",
        "\n",
        "population = []\n",
        "#individu = [150,0.2,0.5,0.7,5,0.68,100]\n",
        "\n",
        "model = [keras.models.load_model('/content/model_nbr.h5'),keras.models.load_model('/content/model_txVaccin.h5'),keras.models.load_model('/content/model_txQuar.h5'),keras.models.load_model('/content/model_txInfect.h5'),keras.models.load_model('/content/model_tmpsInfect.h5'),keras.models.load_model('/content/model_tmpsQuar.h5'),keras.models.load_model('/content/model_tmpsVoyage.h5')]\n",
        "\n",
        "#creation de la première gen\n",
        "def creationgen1(population):\n",
        "    population = []\n",
        "    for j in range(100):\n",
        "        \n",
        "        nbr = random.randint(10, 250)\n",
        "        prcVaccin = round(random.uniform(0, 1),2)\n",
        "        prcQuarantaine = round(random.uniform(0, 1-prcVaccin),2)\n",
        "        txInfection = round(random.uniform(0, 1),2)\n",
        "        tempsInfection = random.randint(2,20)\n",
        "        tempsQuarantaine = random.randint(0,tempsInfection-1)\n",
        "        tempsVoyage = random.randint(0,50)\n",
        "        \n",
        "        population.append((nbr,prcVaccin,prcQuarantaine,txInfection,tempsInfection,tempsQuarantaine,tempsVoyage))\n",
        "    return population\n",
        "    \n",
        "#choix du top 20 + 5 chanceux\n",
        "def Darwin(population):\n",
        "\n",
        "  \n",
        "  sum_population = []\n",
        "  top_val = []\n",
        "\n",
        "  #appliquer et sommer tout les models keras\n",
        "  for j in population:\n",
        "    a = sumModel(j)\n",
        "    #for u in range(len(model)):\n",
        "      #a = a + model[u].predict([j[u]])\n",
        "\n",
        "    sum_population.append(abs(a))\n",
        "\n",
        "  #trouver les indices des sommes les plus basses\n",
        "\n",
        "  #sum_top = (sorted(sum_population))[:20]\n",
        "  #res = sorted(range(len(sum_population)), key = lambda sub: sum_population[sub])[:20]\n",
        "  sum_top,res = top(sum_population)\n",
        "\n",
        "  #ajouter les chanceux\n",
        "  luck = []\n",
        "  for k in range(5):\n",
        "    a = random.randint(0,99)\n",
        "    if a not in res:\n",
        "      b = random.randint(0,19)\n",
        "      res[b] = a\n",
        "\n",
        "    \n",
        "  \n",
        "  #def de top\n",
        "  \n",
        "  for k in res:\n",
        "    top_val.append(population[k])\n",
        "\n",
        "\n",
        "  #return top,res,top_val\n",
        "  return top_val\n",
        "\n",
        "#creation de nouvelle gen\n",
        "def creationgenN(top):\n",
        "  populationN = []\n",
        "  for j in range(100):\n",
        "    \n",
        "    nbr = top[random.randint(0,19)][0]\n",
        "    prcVaccin = top[random.randint(0,19)][1]\n",
        "    prcQuarantaine = top[random.randint(0,19)][2]\n",
        "    txInfection = top[random.randint(0,19)][3]\n",
        "    tempsInfection = top[random.randint(0,19)][4]\n",
        "    tempsQuarantaine = top[random.randint(0,19)][5]\n",
        "    tempsVoyage = top[random.randint(0,19)][6]\n",
        " \n",
        "    populationN.append((nbr,prcVaccin,prcQuarantaine,txInfection,tempsInfection,tempsQuarantaine,tempsVoyage))\n",
        "  return populationN\n",
        "\n",
        "#mutation sur une gen suivant un pourcentage du max de la valeur (provisoire)\n",
        "def mutation(gen,tx,pui):\n",
        "  #max des valeurs\n",
        "  MAXnbr = 200\n",
        "  MAXtxVaccin = 1\n",
        "  MAXtxQuar = 1\n",
        "  MAXtxInfection = 1\n",
        "  MAXtmpsInfect = 10\n",
        "  MAXtmpsQuar = 5\n",
        "  MAXtmpsVoyage = 20\n",
        "  \n",
        "  genMut = []\n",
        "  #mutation\n",
        "  for j in range(len(gen)):\n",
        "    chx = random.randint(1,100)\n",
        "    \n",
        "    if (chx < (tx*100)):\n",
        "      #p = gen[j]\n",
        "      \n",
        "      \n",
        "      if (j % 2) == 0:\n",
        "        p= (abs(gen[j][0]+(MAXnbr*pui)),abs(gen[j][1]+(MAXtxVaccin*pui)),abs(gen[j][2]+(MAXtxQuar*pui)),abs(gen[j][3]+(MAXtxInfection*pui)),abs(gen[j][4]+(MAXtmpsInfect*pui)),abs(gen[j][5]+(MAXtmpsQuar*pui)),abs(gen[j][6]+(MAXtmpsVoyage*pui)))\n",
        "      else:\n",
        "        p= (abs(gen[j][0]+(MAXnbr*pui)),abs(gen[j][1]+(MAXtxVaccin*pui)),abs(gen[j][2]+(MAXtxQuar*pui)),abs(gen[j][3]-(MAXtxInfection*pui)),abs(gen[j][4]+(MAXtmpsInfect*pui)),abs(gen[j][5]+(MAXtmpsQuar*pui)),abs(gen[j][6]+(MAXtmpsVoyage*pui)))\n",
        "      #print(p)\n",
        "      \n",
        "      \n",
        "      genMut.append(p)\n",
        "    else:\n",
        "      genMut.append(gen[j])\n",
        "\n",
        "\n",
        "  return genMut\n",
        "\n",
        "\n",
        "def sumModel(u):\n",
        "  a = 0\n",
        "  for i in range(len(model)):\n",
        "    a = a + model[i].predict([u[i]])\n",
        "  return a\n",
        "\n",
        "\n",
        "def top(sum_population):\n",
        "  sum_top = (sorted(sum_population))[:20]\n",
        "  res = sorted(range(len(sum_population)), key = lambda sub: sum_population[sub])[:20]\n",
        "  return (sum_top,res)\n"
      ]
    },
    {
      "cell_type": "code",
      "execution_count": null,
      "metadata": {
        "id": "sLdXCYxMHcVN"
      },
      "outputs": [],
      "source": [
        "graph = []\n",
        "def Iteration(population,N,tx,pui):\n",
        "  if N == 0:\n",
        "    return population\n",
        "  else:\n",
        "    dar = Darwin(population)\n",
        "    mut = mutation(dar,0.1,0.1)\n",
        "    genN = creationgenN(mut)\n",
        "    top_,u = top(genN)\n",
        "    err = 150 #la somme des min de chaque elem\n",
        "    print(\"---il reste \" + str(N) + \" gen. avant la fin--- le meilleur de la gen.: \" + str(top_[-1]) + \" --- le score du meilleur: \" + str(sumModel(top_[-1]) - err) + \" ---\")\n",
        "    graph.append(int(sumModel(top_[-1]) - err))\n",
        "    return (Iteration(genN,(N-1),tx,pui))\n",
        "  "
      ]
    },
    {
      "cell_type": "code",
      "execution_count": null,
      "metadata": {
        "colab": {
          "base_uri": "https://localhost:8080/"
        },
        "id": "RLiG9fLjmlPk",
        "outputId": "150d0615-e955-4e32-e571-8072e56a664a"
      },
      "outputs": [
        {
          "output_type": "stream",
          "name": "stdout",
          "text": [
            "---il reste 20 gen. avant la fin--- le meilleur de la gen.: (71, 0.05, 0.41, 0.28, 10, 0, 32) --- le score du meilleur: [[499.79242]] ---\n",
            "---il reste 19 gen. avant la fin--- le meilleur de la gen.: (64, 0.74, 0.07, 0.09, 6, 0, 26) --- le score du meilleur: [[308.3142]] ---\n",
            "---il reste 18 gen. avant la fin--- le meilleur de la gen.: (58, 0.94, 0.12000000000000001, 0.13, 2, 1.5, 22) --- le score du meilleur: [[225.9071]] ---\n",
            "---il reste 17 gen. avant la fin--- le meilleur de la gen.: (58, 0.75, 0.62, 0.2, 2, 0, 13) --- le score du meilleur: [[92.87508]] ---\n",
            "---il reste 16 gen. avant la fin--- le meilleur de la gen.: (58, 0.74, 0.6799999999999999, 0.41, 2, 0, 5) --- le score du meilleur: [[104.20035]] ---\n",
            "---il reste 15 gen. avant la fin--- le meilleur de la gen.: (58, 0.84, 0.72, 0.2, 2, 0.5, 13) --- le score du meilleur: [[76.97594]] ---\n",
            "---il reste 14 gen. avant la fin--- le meilleur de la gen.: (58, 0.74, 0.7799999999999999, 0.2, 2, 0, 13) --- le score du meilleur: [[57.904816]] ---\n",
            "---il reste 13 gen. avant la fin--- le meilleur de la gen.: (58, 0.97, 0.72, 0.30000000000000004, 2, 0, 13) --- le score du meilleur: [[75.62778]] ---\n",
            "---il reste 12 gen. avant la fin--- le meilleur de la gen.: (58, 0.97, 0.82, 0.03, 2, 0, 13) --- le score du meilleur: [[39.043533]] ---\n",
            "---il reste 11 gen. avant la fin--- le meilleur de la gen.: (58, 0.74, 1.02, 0.05, 2, 0, 20.0) --- le score du meilleur: [[22.326843]] ---\n",
            "---il reste 10 gen. avant la fin--- le meilleur de la gen.: (58, 0.97, 0.82, 0.13, 2, 0.5, 20.0) --- le score du meilleur: [[49.91687]] ---\n",
            "---il reste 9 gen. avant la fin--- le meilleur de la gen.: (58, 1.07, 1.0799999999999998, 0.03, 2, 0, 19) --- le score du meilleur: [[18.13765]] ---\n",
            "---il reste 8 gen. avant la fin--- le meilleur de la gen.: (58, 1.1700000000000002, 0.9199999999999999, 0.05, 2, 1.0, 19) --- le score du meilleur: [[49.487854]] ---\n",
            "---il reste 7 gen. avant la fin--- le meilleur de la gen.: (58, 1.1700000000000002, 1.02, 0.05, 2, 0, 19) --- le score du meilleur: [[18.503723]] ---\n",
            "---il reste 6 gen. avant la fin--- le meilleur de la gen.: (58, 1.2700000000000002, 0.9199999999999999, 0.05, 2, 0, 19) --- le score du meilleur: [[18.216278]] ---\n",
            "---il reste 5 gen. avant la fin--- le meilleur de la gen.: (58, 1.3700000000000003, 1.12, 0.03, 2, 0, 17.0) --- le score du meilleur: [[16.515717]] ---\n",
            "---il reste 4 gen. avant la fin--- le meilleur de la gen.: (58, 1.4700000000000004, 1.12, 0.03, 2, 0, 19.0) --- le score du meilleur: [[15.522293]] ---\n",
            "---il reste 3 gen. avant la fin--- le meilleur de la gen.: (58, 1.4700000000000004, 1.12, 0.07, 2, 0, 19.0) --- le score du meilleur: [[17.279266]] ---\n",
            "---il reste 2 gen. avant la fin--- le meilleur de la gen.: (58, 1.5700000000000005, 1.12, 0.03, 2, 0, 19.0) --- le score du meilleur: [[15.061508]] ---\n",
            "---il reste 1 gen. avant la fin--- le meilleur de la gen.: (58, 1.5700000000000005, 1.2200000000000002, 0.03, 2, 0, 21.0) --- le score du meilleur: [[23.58783]] ---\n",
            "[(58, 1.5700000000000005, 1.2200000000000002, 0.03, 2, 0, 19), (58, 1.6700000000000006, 1.2200000000000002, 0.03, 2, 0, 19), (58, 1.6700000000000006, 1.3200000000000003, 0.03, 2, 0, 19.0), (78.0, 1.5700000000000005, 1.2200000000000002, 0.03, 3.0, 0, 21.0), (58, 1.6700000000000006, 1.3200000000000003, 0.03, 3.0, 0.5, 19), (78.0, 1.5700000000000005, 1.2200000000000002, 0.03, 3.0, 0, 21.0), (58, 1.6700000000000006, 1.2200000000000002, 0.03, 3.0, 0, 19.0), (58, 1.5700000000000005, 1.2200000000000002, 0.03, 2, 0, 21.0), (58, 1.5700000000000005, 1.2200000000000002, 0.07, 2, 0, 19), (58, 1.5700000000000005, 1.3200000000000003, 0.03, 3.0, 0, 21.0), (58, 1.5700000000000005, 1.2200000000000002, 0.03, 2, 0, 19), (58, 1.5700000000000005, 1.2200000000000002, 0.07, 2, 0, 19), (58, 1.6700000000000006, 1.2200000000000002, 0.03, 2, 0, 19.0), (58, 1.5700000000000005, 1.2200000000000002, 0.03, 2, 0, 19), (58, 1.5700000000000005, 1.2200000000000002, 0.03, 3.0, 0, 21.0), (58, 1.5700000000000005, 1.3200000000000003, 0.03, 3.0, 0, 19.0), (58, 1.6700000000000006, 1.3200000000000003, 0.03, 2, 0, 19), (58, 1.6700000000000006, 1.3200000000000003, 0.03, 2, 0, 19), (58, 1.5700000000000005, 1.3200000000000003, 0.03, 2, 0, 19), (58, 1.6700000000000006, 1.3200000000000003, 0.07, 2, 0, 19), (78.0, 1.5700000000000005, 1.2200000000000002, 0.03, 2, 0, 19), (58, 1.6700000000000006, 1.2200000000000002, 0.07, 3.0, 0, 19), (58, 1.6700000000000006, 1.2200000000000002, 0.03, 2, 0, 19), (58, 1.6700000000000006, 1.2200000000000002, 0.03, 3.0, 0, 19), (78.0, 1.5700000000000005, 1.3200000000000003, 0.03, 2, 0, 19), (58, 1.6700000000000006, 1.2200000000000002, 0.03, 2, 0, 21.0), (58, 1.5700000000000005, 1.3200000000000003, 0.03, 2, 0, 19), (78.0, 1.5700000000000005, 1.2200000000000002, 0.03, 2, 0.5, 19.0), (58, 1.5700000000000005, 1.3200000000000003, 0.07, 3.0, 0, 19.0), (78.0, 1.5700000000000005, 1.2200000000000002, 0.03, 2, 0.5, 19), (58, 1.5700000000000005, 1.2200000000000002, 0.03, 2, 0, 21.0), (78.0, 1.6700000000000006, 1.2200000000000002, 0.03, 2, 0, 19), (58, 1.6700000000000006, 1.2200000000000002, 0.03, 3.0, 0.5, 19.0), (78.0, 1.5700000000000005, 1.2200000000000002, 0.03, 2, 0, 19.0), (58, 1.5700000000000005, 1.2200000000000002, 0.03, 2, 0, 19.0), (58, 1.5700000000000005, 1.2200000000000002, 0.03, 2, 0, 19.0), (58, 1.5700000000000005, 1.3200000000000003, 0.03, 2, 0, 19), (58, 1.5700000000000005, 1.3200000000000003, 0.07, 2, 0, 19), (58, 1.5700000000000005, 1.2200000000000002, 0.07, 2, 0, 19), (78.0, 1.5700000000000005, 1.2200000000000002, 0.03, 2, 0, 19.0), (58, 1.5700000000000005, 1.2200000000000002, 0.03, 2, 0, 19.0), (58, 1.5700000000000005, 1.2200000000000002, 0.03, 2, 0, 19), (58, 1.5700000000000005, 1.2200000000000002, 0.03, 2, 0, 19.0), (58, 1.5700000000000005, 1.2200000000000002, 0.03, 2, 0, 21.0), (58, 1.5700000000000005, 1.2200000000000002, 0.03, 2, 0, 19.0), (58, 1.5700000000000005, 1.2200000000000002, 0.07, 2, 0, 19), (58, 1.6700000000000006, 1.2200000000000002, 0.03, 2, 0, 19.0), (58, 1.5700000000000005, 1.2200000000000002, 0.07, 2, 0, 19), (58, 1.5700000000000005, 1.2200000000000002, 0.03, 2, 0, 19.0), (58, 1.5700000000000005, 1.3200000000000003, 0.03, 2, 0, 19), (58, 1.5700000000000005, 1.2200000000000002, 0.03, 3.0, 0, 19.0), (58, 1.5700000000000005, 1.3200000000000003, 0.03, 3.0, 0, 19.0), (78.0, 1.5700000000000005, 1.2200000000000002, 0.03, 2, 0, 19), (58, 1.5700000000000005, 1.2200000000000002, 0.03, 3.0, 0, 19), (58, 1.5700000000000005, 1.2200000000000002, 0.03, 3.0, 0, 19), (58, 1.6700000000000006, 1.3200000000000003, 0.03, 2, 0.5, 19.0), (58, 1.5700000000000005, 1.2200000000000002, 0.03, 3.0, 0, 21.0), (58, 1.5700000000000005, 1.3200000000000003, 0.03, 2, 0, 19), (78.0, 1.5700000000000005, 1.2200000000000002, 0.03, 2, 0, 19.0), (58, 1.6700000000000006, 1.3200000000000003, 0.13, 3.0, 0, 19), (58, 1.5700000000000005, 1.2200000000000002, 0.03, 2, 0, 19), (78.0, 1.5700000000000005, 1.2200000000000002, 0.03, 3.0, 0, 21.0), (58, 1.5700000000000005, 1.3200000000000003, 0.03, 2, 0, 19.0), (58, 1.5700000000000005, 1.3200000000000003, 0.03, 2, 0, 21.0), (78.0, 1.5700000000000005, 1.3200000000000003, 0.03, 2, 0, 19), (78.0, 1.5700000000000005, 1.2200000000000002, 0.03, 2, 0, 19.0), (58, 1.5700000000000005, 1.2200000000000002, 0.03, 2, 0, 21.0), (78.0, 1.5700000000000005, 1.2200000000000002, 0.03, 2, 0.5, 21.0), (58, 1.6700000000000006, 1.2200000000000002, 0.03, 2, 0, 19.0), (58, 1.5700000000000005, 1.2200000000000002, 0.03, 2, 0, 19), (58, 1.5700000000000005, 1.2200000000000002, 0.03, 3.0, 0, 21.0), (58, 1.5700000000000005, 1.2200000000000002, 0.03, 3.0, 0, 19.0), (78.0, 1.5700000000000005, 1.2200000000000002, 0.03, 2, 0, 19.0), (58, 1.5700000000000005, 1.2200000000000002, 0.03, 3.0, 0.5, 19), (58, 1.5700000000000005, 1.3200000000000003, 0.13, 2, 0, 19), (58, 1.5700000000000005, 1.3200000000000003, 0.03, 2, 0, 19), (58, 1.5700000000000005, 1.2200000000000002, 0.03, 2, 0, 19.0), (58, 1.5700000000000005, 1.2200000000000002, 0.03, 2, 0.5, 19), (58, 1.5700000000000005, 1.2200000000000002, 0.03, 2, 0, 19), (58, 1.6700000000000006, 1.2200000000000002, 0.03, 2, 0, 19.0), (58, 1.5700000000000005, 1.2200000000000002, 0.03, 3.0, 0, 21.0), (78.0, 1.5700000000000005, 1.3200000000000003, 0.07, 2, 0, 19.0), (78.0, 1.6700000000000006, 1.2200000000000002, 0.03, 3.0, 0.5, 19), (58, 1.5700000000000005, 1.3200000000000003, 0.03, 2, 0, 19.0), (58, 1.5700000000000005, 1.2200000000000002, 0.03, 2, 0, 19), (58, 1.5700000000000005, 1.3200000000000003, 0.03, 2, 0, 19.0), (78.0, 1.5700000000000005, 1.2200000000000002, 0.03, 2, 0, 19.0), (58, 1.5700000000000005, 1.2200000000000002, 0.03, 2, 0, 19.0), (58, 1.5700000000000005, 1.2200000000000002, 0.03, 2, 0, 19.0), (58, 1.5700000000000005, 1.3200000000000003, 0.03, 2, 0, 19.0), (58, 1.5700000000000005, 1.2200000000000002, 0.03, 3.0, 0, 21.0), (78.0, 1.6700000000000006, 1.2200000000000002, 0.03, 3.0, 0.5, 19), (58, 1.6700000000000006, 1.2200000000000002, 0.03, 2, 0, 19), (78.0, 1.5700000000000005, 1.2200000000000002, 0.03, 2, 0.5, 19.0), (58, 1.5700000000000005, 1.3200000000000003, 0.07, 2, 0, 19), (58, 1.6700000000000006, 1.2200000000000002, 0.03, 2, 0, 19), (78.0, 1.6700000000000006, 1.2200000000000002, 0.03, 3.0, 0, 19), (58, 1.6700000000000006, 1.2200000000000002, 0.07, 3.0, 0, 19.0), (58, 1.5700000000000005, 1.2200000000000002, 0.03, 2, 0.5, 19.0), (58, 1.5700000000000005, 1.2200000000000002, 0.03, 3.0, 0, 19)]\n"
          ]
        }
      ],
      "source": [
        "ekip = Iteration(creationgen1([]),20,0.2,0.05)\n",
        "#ekip = Iteration(ekip,10,0.2,0.1)\n",
        "print (ekip)"
      ]
    },
    {
      "cell_type": "code",
      "source": [
        "import matplotlib.pyplot as plt\n",
        "index = []\n",
        "for j in range(20):\n",
        "  index.append(j)\n",
        "plt.plot(index,graph[25:])"
      ],
      "metadata": {
        "colab": {
          "base_uri": "https://localhost:8080/",
          "height": 283
        },
        "id": "oGBv0ZT5CeBB",
        "outputId": "01052ec5-e3b6-4f23-b100-918ad21ba707"
      },
      "execution_count": null,
      "outputs": [
        {
          "output_type": "execute_result",
          "data": {
            "text/plain": [
              "[<matplotlib.lines.Line2D at 0x7fd492c1a950>]"
            ]
          },
          "metadata": {},
          "execution_count": 31
        },
        {
          "output_type": "display_data",
          "data": {
            "text/plain": [
              "<Figure size 432x288 with 1 Axes>"
            ],
            "image/png": "[encoded data removed]"
          },
          "metadata": {
            "needs_background": "light"
          }
        }
      ]
    }
  ],
  "metadata": {
    "colab": {
      "provenance": []
    },
    "kernelspec": {
      "display_name": "Python 3",
      "name": "python3"
    },
    "language_info": {
      "name": "python"
    }
  },
  "nbformat": 4,
  "nbformat_minor": 0
}