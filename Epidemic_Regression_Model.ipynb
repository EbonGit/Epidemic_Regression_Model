{
  "nbformat": 4,
  "nbformat_minor": 0,
  "metadata": {
    "colab": {
      "provenance": []
    },
    "kernelspec": {
      "name": "python3",
      "display_name": "Python 3"
    },
    "language_info": {
      "name": "python"
    }
  },
  "cells": [
    {
      "cell_type": "code",
      "execution_count": null,
      "metadata": {
        "colab": {
          "base_uri": "https://localhost:8080/"
        },
        "id": "nxyVoth-6d0P",
        "outputId": "cd635be3-73e1-4a4e-d85b-b8c8763e939d"
      },
      "outputs": [
        {
          "output_type": "stream",
          "name": "stdout",
          "text": [
            "2.8.2\n"
          ]
        }
      ],
      "source": [
        "import matplotlib.pyplot as plt\n",
        "import numpy as np\n",
        "import pandas as pd\n",
        "import seaborn as sns\n",
        "\n",
        "np.set_printoptions(precision=3, suppress=True)\n",
        "\n",
        "import tensorflow as tf\n",
        "\n",
        "from tensorflow import keras\n",
        "from tensorflow.keras import layers\n",
        "\n",
        "\n",
        "print(tf.__version__)\n",
        "\n",
        "url = '/content/tmpsVoyage.csv'\n",
        "column_names = ['tx', 'nbr', 'txVaccin', 'txQuar', 'txInfect',\n",
        "                'tmpsInfect', 'tmpsQuar', 'tmpsVoyage']\n",
        "\n",
        "raw_dataset = pd.read_csv(url, names=column_names,\n",
        "                          na_values='?', comment='\\t',\n",
        "                          sep=',', skipinitialspace=True)\n",
        "\n",
        "dataset = raw_dataset.copy()\n",
        "dataset.tail()\n",
        "\n",
        "unit = 'tmpsVoyage'"
      ]
    },
    {
      "cell_type": "code",
      "source": [
        "train_dataset = dataset.sample(frac=0.8, random_state=0)\n",
        "test_dataset = dataset.drop(train_dataset.index)\n",
        "\n",
        "train_dataset.describe().transpose()"
      ],
      "metadata": {
        "colab": {
          "base_uri": "https://localhost:8080/",
          "height": 300
        },
        "id": "WOMuUJRj9rsW",
        "outputId": "c276bdc1-5fc0-4be5-bd25-b55f8ce06b66"
      },
      "execution_count": null,
      "outputs": [
        {
          "output_type": "execute_result",
          "data": {
            "text/plain": [
              "             count        mean           std     min     25%     50%      75%  \\\n",
              "tx          1711.0  134.900058  9.324888e+01    1.00  102.00  110.00  116.000   \n",
              "nbr         1711.0  150.000000  0.000000e+00  150.00  150.00  150.00  150.000   \n",
              "txVaccin    1711.0    0.200000  2.776369e-17    0.20    0.20    0.20    0.200   \n",
              "txQuar      1711.0    0.000000  0.000000e+00    0.00    0.00    0.00    0.000   \n",
              "txInfect    1711.0    0.500000  0.000000e+00    0.50    0.50    0.50    0.500   \n",
              "tmpsInfect  1711.0    4.000000  0.000000e+00    4.00    4.00    4.00    4.000   \n",
              "tmpsQuar    1711.0    1.000000  0.000000e+00    1.00    1.00    1.00    1.000   \n",
              "tmpsVoyage  1711.0   10.513314  5.536515e+00    1.01    5.53   10.61   15.305   \n",
              "\n",
              "               max  \n",
              "tx          648.00  \n",
              "nbr         150.00  \n",
              "txVaccin      0.20  \n",
              "txQuar        0.00  \n",
              "txInfect      0.50  \n",
              "tmpsInfect    4.00  \n",
              "tmpsQuar      1.00  \n",
              "tmpsVoyage   19.98  "
            ],
            "text/html": [
              "\n",
              "  <div id=\"df-1965a8ac-6d2c-4e0e-8c1d-b8954f159dff\">\n",
              "    <div class=\"colab-df-container\">\n",
              "      <div>\n",
              "<style scoped>\n",
              "    .dataframe tbody tr th:only-of-type {\n",
              "        vertical-align: middle;\n",
              "    }\n",
              "\n",
              "    .dataframe tbody tr th {\n",
              "        vertical-align: top;\n",
              "    }\n",
              "\n",
              "    .dataframe thead th {\n",
              "        text-align: right;\n",
              "    }\n",
              "</style>\n",
              "<table border=\"1\" class=\"dataframe\">\n",
              "  <thead>\n",
              "    <tr style=\"text-align: right;\">\n",
              "      <th></th>\n",
              "      <th>count</th>\n",
              "      <th>mean</th>\n",
              "      <th>std</th>\n",
              "      <th>min</th>\n",
              "      <th>25%</th>\n",
              "      <th>50%</th>\n",
              "      <th>75%</th>\n",
              "      <th>max</th>\n",
              "    </tr>\n",
              "  </thead>\n",
              "  <tbody>\n",
              "    <tr>\n",
              "      <th>tx</th>\n",
              "      <td>1711.0</td>\n",
              "      <td>134.900058</td>\n",
              "      <td>9.324888e+01</td>\n",
              "      <td>1.00</td>\n",
              "      <td>102.00</td>\n",
              "      <td>110.00</td>\n",
              "      <td>116.000</td>\n",
              "      <td>648.00</td>\n",
              "    </tr>\n",
              "    <tr>\n",
              "      <th>nbr</th>\n",
              "      <td>1711.0</td>\n",
              "      <td>150.000000</td>\n",
              "      <td>0.000000e+00</td>\n",
              "      <td>150.00</td>\n",
              "      <td>150.00</td>\n",
              "      <td>150.00</td>\n",
              "      <td>150.000</td>\n",
              "      <td>150.00</td>\n",
              "    </tr>\n",
              "    <tr>\n",
              "      <th>txVaccin</th>\n",
              "      <td>1711.0</td>\n",
              "      <td>0.200000</td>\n",
              "      <td>2.776369e-17</td>\n",
              "      <td>0.20</td>\n",
              "      <td>0.20</td>\n",
              "      <td>0.20</td>\n",
              "      <td>0.200</td>\n",
              "      <td>0.20</td>\n",
              "    </tr>\n",
              "    <tr>\n",
              "      <th>txQuar</th>\n",
              "      <td>1711.0</td>\n",
              "      <td>0.000000</td>\n",
              "      <td>0.000000e+00</td>\n",
              "      <td>0.00</td>\n",
              "      <td>0.00</td>\n",
              "      <td>0.00</td>\n",
              "      <td>0.000</td>\n",
              "      <td>0.00</td>\n",
              "    </tr>\n",
              "    <tr>\n",
              "      <th>txInfect</th>\n",
              "      <td>1711.0</td>\n",
              "      <td>0.500000</td>\n",
              "      <td>0.000000e+00</td>\n",
              "      <td>0.50</td>\n",
              "      <td>0.50</td>\n",
              "      <td>0.50</td>\n",
              "      <td>0.500</td>\n",
              "      <td>0.50</td>\n",
              "    </tr>\n",
              "    <tr>\n",
              "      <th>tmpsInfect</th>\n",
              "      <td>1711.0</td>\n",
              "      <td>4.000000</td>\n",
              "      <td>0.000000e+00</td>\n",
              "      <td>4.00</td>\n",
              "      <td>4.00</td>\n",
              "      <td>4.00</td>\n",
              "      <td>4.000</td>\n",
              "      <td>4.00</td>\n",
              "    </tr>\n",
              "    <tr>\n",
              "      <th>tmpsQuar</th>\n",
              "      <td>1711.0</td>\n",
              "      <td>1.000000</td>\n",
              "      <td>0.000000e+00</td>\n",
              "      <td>1.00</td>\n",
              "      <td>1.00</td>\n",
              "      <td>1.00</td>\n",
              "      <td>1.000</td>\n",
              "      <td>1.00</td>\n",
              "    </tr>\n",
              "    <tr>\n",
              "      <th>tmpsVoyage</th>\n",
              "      <td>1711.0</td>\n",
              "      <td>10.513314</td>\n",
              "      <td>5.536515e+00</td>\n",
              "      <td>1.01</td>\n",
              "      <td>5.53</td>\n",
              "      <td>10.61</td>\n",
              "      <td>15.305</td>\n",
              "      <td>19.98</td>\n",
              "    </tr>\n",
              "  </tbody>\n",
              "</table>\n",
              "</div>\n",
              "      <button class=\"colab-df-convert\" onclick=\"convertToInteractive('df-1965a8ac-6d2c-4e0e-8c1d-b8954f159dff')\"\n",
              "              title=\"Convert this dataframe to an interactive table.\"\n",
              "              style=\"display:none;\">\n",
              "        \n",
              "  <svg xmlns=\"http://www.w3.org/2000/svg\" height=\"24px\"viewBox=\"0 0 24 24\"\n",
              "       width=\"24px\">\n",
              "    <path d=\"M0 0h24v24H0V0z\" fill=\"none\"/>\n",
              "    <path d=\"M18.56 5.44l.94 2.06.94-2.06 2.06-.94-2.06-.94-.94-2.06-.94 2.06-2.06.94zm-11 1L8.5 8.5l.94-2.06 2.06-.94-2.06-.94L8.5 2.5l-.94 2.06-2.06.94zm10 10l.94 2.06.94-2.06 2.06-.94-2.06-.94-.94-2.06-.94 2.06-2.06.94z\"/><path d=\"M17.41 7.96l-1.37-1.37c-.4-.4-.92-.59-1.43-.59-.52 0-1.04.2-1.43.59L10.3 9.45l-7.72 7.72c-.78.78-.78 2.05 0 2.83L4 21.41c.39.39.9.59 1.41.59.51 0 1.02-.2 1.41-.59l7.78-7.78 2.81-2.81c.8-.78.8-2.07 0-2.86zM5.41 20L4 18.59l7.72-7.72 1.47 1.35L5.41 20z\"/>\n",
              "  </svg>\n",
              "      </button>\n",
              "      \n",
              "  <style>\n",
              "    .colab-df-container {\n",
              "      display:flex;\n",
              "      flex-wrap:wrap;\n",
              "      gap: 12px;\n",
              "    }\n",
              "\n",
              "    .colab-df-convert {\n",
              "      background-color: #E8F0FE;\n",
              "      border: none;\n",
              "      border-radius: 50%;\n",
              "      cursor: pointer;\n",
              "      display: none;\n",
              "      fill: #1967D2;\n",
              "      height: 32px;\n",
              "      padding: 0 0 0 0;\n",
              "      width: 32px;\n",
              "    }\n",
              "\n",
              "    .colab-df-convert:hover {\n",
              "      background-color: #E2EBFA;\n",
              "      box-shadow: 0px 1px 2px rgba(60, 64, 67, 0.3), 0px 1px 3px 1px rgba(60, 64, 67, 0.15);\n",
              "      fill: #174EA6;\n",
              "    }\n",
              "\n",
              "    [theme=dark] .colab-df-convert {\n",
              "      background-color: #3B4455;\n",
              "      fill: #D2E3FC;\n",
              "    }\n",
              "\n",
              "    [theme=dark] .colab-df-convert:hover {\n",
              "      background-color: #434B5C;\n",
              "      box-shadow: 0px 1px 3px 1px rgba(0, 0, 0, 0.15);\n",
              "      filter: drop-shadow(0px 1px 2px rgba(0, 0, 0, 0.3));\n",
              "      fill: #FFFFFF;\n",
              "    }\n",
              "  </style>\n",
              "\n",
              "      <script>\n",
              "        const buttonEl =\n",
              "          document.querySelector('#df-1965a8ac-6d2c-4e0e-8c1d-b8954f159dff button.colab-df-convert');\n",
              "        buttonEl.style.display =\n",
              "          google.colab.kernel.accessAllowed ? 'block' : 'none';\n",
              "\n",
              "        async function convertToInteractive(key) {\n",
              "          const element = document.querySelector('#df-1965a8ac-6d2c-4e0e-8c1d-b8954f159dff');\n",
              "          const dataTable =\n",
              "            await google.colab.kernel.invokeFunction('convertToInteractive',\n",
              "                                                     [key], {});\n",
              "          if (!dataTable) return;\n",
              "\n",
              "          const docLinkHtml = 'Like what you see? Visit the ' +\n",
              "            '<a target=\"_blank\" href=https://colab.research.google.com/notebooks/data_table.ipynb>data table notebook</a>'\n",
              "            + ' to learn more about interactive tables.';\n",
              "          element.innerHTML = '';\n",
              "          dataTable['output_type'] = 'display_data';\n",
              "          await google.colab.output.renderOutput(dataTable, element);\n",
              "          const docLink = document.createElement('div');\n",
              "          docLink.innerHTML = docLinkHtml;\n",
              "          element.appendChild(docLink);\n",
              "        }\n",
              "      </script>\n",
              "    </div>\n",
              "  </div>\n",
              "  "
            ]
          },
          "metadata": {},
          "execution_count": 2
        }
      ]
    },
    {
      "cell_type": "code",
      "source": [
        "sns.pairplot(train_dataset[['tx', unit]], diag_kind='kde')\n"
      ],
      "metadata": {
        "id": "jLhx35vrgg-M",
        "colab": {
          "base_uri": "https://localhost:8080/",
          "height": 392
        },
        "outputId": "f18392d4-c787-4523-d05a-038387f51ce1"
      },
      "execution_count": null,
      "outputs": [
        {
          "output_type": "execute_result",
          "data": {
            "text/plain": [
              "<seaborn.axisgrid.PairGrid at 0x7fc13cd59310>"
            ]
          },
          "metadata": {},
          "execution_count": 3
        },
        {
          "output_type": "display_data",
          "data": {
            "text/plain": [
              "<Figure size 360x360 with 6 Axes>"
            ],
            "image/png": "[encoded data removed]"
          },
          "metadata": {
            "needs_background": "light"
          }
        }
      ]
    },
    {
      "cell_type": "code",
      "source": [
        "#coder fct pour supprimer les valeurs trop absurdes\n",
        "train_features = train_dataset.copy()\n",
        "test = train_features.pop(unit)\n",
        "toto = train_features.pop('tx')\n",
        "l1 = test.values.tolist()\n",
        "l2 = toto.values.tolist()\n",
        "\n",
        "print(len(l1))\n",
        "\n",
        "fin = []\n",
        "\n",
        "for i in range (0,20):\n",
        "  a = i\n",
        "  b = a + 1\n",
        "\n",
        "  l = []\n",
        "  for j in range(len(l1)):\n",
        "    p = l1[j]\n",
        "    if (p >= a) and (p <= b):\n",
        "      l.append(j)\n",
        "    \n",
        "  \n",
        "  sumi = 0\n",
        "  \n",
        "  for u in l:\n",
        "    sumi = sumi + l2[u]\n",
        "  \n",
        "  if len(l) == 0:\n",
        "    print()\n",
        "  else:\n",
        "    sumi = sumi / len(l)\n",
        "    #print(sumi)\n",
        "    error = sumi / 3\n",
        "\n",
        "    \n",
        "   \n",
        "    for k in l:\n",
        "      if (l2[k] < sumi + error) and (l2[k] > sumi - error):\n",
        "        fin.append(k)\n",
        "\n",
        "print(fin)"
      ],
      "metadata": {
        "id": "6htLiFCOqSKQ",
        "colab": {
          "base_uri": "https://localhost:8080/"
        },
        "outputId": "052236eb-87fc-48a3-a1a4-42093d1bd42a"
      },
      "execution_count": null,
      "outputs": [
        {
          "output_type": "stream",
          "name": "stdout",
          "text": [
            "1711\n",
            "\n",
            "[75, 244, 370, 403, 425, 546, 569, 727, 804, 825, 833, 876, 970, 1017, 1020, 1194, 1292, 1403, 1434, 1599, 28, 163, 254, 291, 302, 450, 510, 515, 559, 563, 634, 650, 816, 819, 832, 870, 913, 963, 1029, 1078, 1187, 1227, 1241, 1246, 1253, 1304, 1332, 1343, 1363, 1526, 1612, 24, 25, 73, 159, 200, 273, 369, 409, 485, 494, 557, 643, 665, 700, 717, 793, 878, 976, 1204, 1255, 1268, 1273, 1278, 1284, 1296, 1298, 1349, 1356, 1437, 1460, 1593, 1623, 1667, 34, 41, 59, 89, 98, 234, 255, 268, 269, 279, 337, 359, 396, 436, 459, 598, 666, 682, 708, 722, 733, 895, 909, 912, 916, 925, 927, 949, 950, 1009, 1037, 1074, 1105, 1162, 1250, 1260, 1270, 1283, 1324, 1358, 1394, 1406, 1414, 1513, 1517, 1583, 1590, 1689, 1695, 59, 101, 119, 131, 168, 247, 263, 276, 282, 288, 308, 322, 361, 372, 395, 479, 486, 544, 591, 611, 614, 647, 667, 742, 770, 789, 790, 826, 837, 846, 905, 941, 950, 966, 984, 1023, 1041, 1085, 1089, 1094, 1235, 1257, 1354, 1370, 1389, 1399, 1455, 1473, 1486, 1510, 1516, 1577, 1596, 1597, 1618, 1636, 1691, 19, 72, 82, 85, 88, 111, 118, 125, 129, 232, 237, 315, 387, 394, 442, 464, 486, 505, 550, 590, 591, 593, 621, 685, 687, 690, 731, 745, 752, 766, 868, 911, 958, 967, 972, 983, 985, 1154, 1192, 1230, 1231, 1244, 1249, 1274, 1319, 1375, 1415, 1416, 1426, 1454, 1464, 1493, 1518, 1551, 1566, 1573, 1589, 1591, 1622, 1638, 1680, 1709, 39, 86, 141, 217, 295, 309, 333, 354, 362, 378, 390, 428, 434, 454, 462, 498, 567, 574, 578, 638, 670, 675, 693, 699, 706, 753, 760, 805, 817, 823, 866, 918, 955, 988, 1021, 1092, 1112, 1166, 1171, 1266, 1285, 1289, 1380, 1386, 1392, 1393, 1443, 1495, 1514, 1569, 1581, 1641, 1676, 7, 66, 76, 78, 107, 169, 209, 211, 231, 243, 264, 319, 336, 411, 438, 490, 566, 579, 589, 662, 713, 746, 754, 756, 773, 775, 810, 834, 838, 879, 902, 964, 994, 996, 1008, 1015, 1028, 1042, 1058, 1066, 1121, 1145, 1185, 1197, 1211, 1212, 1232, 1275, 1294, 1325, 1331, 1338, 1362, 1374, 1400, 1417, 1419, 1420, 1432, 1503, 1524, 1535, 1607, 1617, 1654, 1664, 1668, 1669, 1704, 0, 5, 84, 114, 156, 218, 241, 253, 260, 275, 299, 480, 501, 552, 556, 594, 609, 627, 724, 741, 748, 942, 981, 991, 1001, 1039, 1050, 1080, 1093, 1141, 1202, 1215, 1226, 1251, 1280, 1286, 1334, 1430, 1451, 1465, 1511, 1547, 1594, 1601, 1635, 1639, 1651, 1686, 1694, 1706, 1708, 4, 18, 20, 42, 81, 92, 100, 108, 123, 132, 186, 213, 248, 259, 277, 305, 356, 380, 388, 423, 443, 458, 497, 522, 552, 554, 583, 632, 640, 652, 704, 714, 721, 728, 765, 822, 849, 851, 880, 884, 939, 947, 960, 978, 982, 1016, 1018, 1026, 1056, 1063, 1100, 1102, 1114, 1122, 1152, 1188, 1217, 1221, 1224, 1228, 1265, 1276, 1288, 1361, 1438, 1457, 1498, 1519, 1558, 1627, 1633, 1647, 1651, 1653, 1672, 1674, 1696, 1702, 45, 53, 56, 68, 147, 164, 176, 184, 251, 261, 283, 298, 382, 412, 418, 426, 445, 463, 537, 565, 577, 615, 623, 641, 661, 678, 698, 762, 781, 803, 815, 840, 874, 939, 940, 1034, 1046, 1065, 1082, 1135, 1153, 1207, 1238, 1282, 1295, 1340, 1372, 1407, 1442, 1492, 1502, 1509, 1527, 1575, 1576, 1579, 1582, 1666, 1679, 1692, 43, 70, 116, 137, 155, 173, 201, 208, 226, 238, 246, 307, 344, 357, 384, 424, 430, 435, 447, 465, 483, 504, 533, 535, 555, 607, 707, 710, 715, 749, 827, 844, 845, 877, 904, 944, 974, 1000, 1007, 1033, 1043, 1088, 1090, 1091, 1097, 1124, 1136, 1139, 1161, 1200, 1209, 1314, 1326, 1337, 1347, 1351, 1388, 1436, 1462, 1463, 1489, 1501, 1522, 1538, 1552, 1570, 1588, 1592, 1661, 1684, 1697, 26, 33, 40, 60, 63, 97, 103, 104, 113, 139, 144, 148, 221, 227, 233, 240, 252, 314, 316, 321, 332, 341, 366, 373, 377, 397, 407, 416, 419, 437, 473, 484, 492, 504, 519, 558, 560, 601, 604, 642, 764, 776, 780, 806, 854, 860, 867, 891, 928, 931, 956, 1004, 1049, 1086, 1140, 1167, 1170, 1175, 1179, 1201, 1223, 1248, 1262, 1306, 1318, 1402, 1413, 1435, 1440, 1450, 1461, 1483, 1491, 1500, 1543, 1603, 1604, 1615, 1637, 1648, 1703, 96, 112, 127, 153, 157, 194, 225, 257, 270, 296, 375, 457, 516, 523, 528, 532, 568, 570, 605, 608, 633, 649, 655, 681, 691, 696, 723, 737, 807, 875, 883, 889, 919, 1011, 1045, 1048, 1070, 1083, 1110, 1118, 1127, 1132, 1144, 1149, 1168, 1173, 1176, 1206, 1208, 1263, 1307, 1315, 1328, 1376, 1395, 1418, 1445, 1456, 1466, 1468, 1479, 1490, 1562, 1600, 1614, 1621, 1628, 1631, 1646, 1662, 29, 35, 48, 62, 64, 136, 174, 210, 214, 215, 289, 293, 323, 325, 338, 340, 346, 363, 399, 439, 466, 469, 482, 496, 499, 527, 541, 545, 573, 575, 584, 603, 622, 625, 677, 680, 711, 738, 750, 771, 836, 856, 897, 924, 973, 1019, 1027, 1036, 1054, 1059, 1062, 1073, 1075, 1095, 1099, 1148, 1163, 1180, 1190, 1237, 1254, 1259, 1299, 1310, 1336, 1382, 1405, 1446, 1467, 1494, 1523, 1537, 1548, 1555, 1580, 1584, 1613, 1632, 1649, 1656, 1677, 1678, 1688, 15, 48, 51, 61, 105, 120, 121, 124, 160, 175, 188, 197, 202, 228, 281, 301, 311, 317, 326, 327, 432, 451, 452, 467, 495, 509, 517, 529, 542, 612, 628, 646, 648, 656, 658, 673, 703, 743, 744, 750, 777, 778, 782, 801, 814, 818, 830, 850, 858, 938, 954, 1038, 1116, 1138, 1178, 1233, 1256, 1305, 1311, 1312, 1333, 1341, 1345, 1381, 1397, 1428, 1453, 1458, 1496, 1521, 1531, 1532, 1546, 1563, 1585, 1658, 1670, 1675, 3, 22, 36, 65, 67, 74, 91, 106, 179, 180, 192, 193, 290, 324, 335, 343, 349, 351, 367, 374, 398, 417, 441, 487, 506, 513, 551, 561, 580, 595, 596, 613, 635, 637, 657, 689, 729, 734, 757, 784, 801, 839, 848, 855, 862, 873, 881, 888, 914, 937, 953, 1002, 1035, 1064, 1096, 1165, 1186, 1218, 1252, 1301, 1348, 1377, 1378, 1390, 1404, 1439, 1477, 1534, 1554, 1568, 1571, 1578, 1643, 1663, 14, 128, 142, 154, 161, 165, 185, 239, 274, 285, 300, 310, 331, 348, 352, 386, 414, 422, 429, 448, 453, 455, 474, 476, 488, 586, 587, 659, 663, 701, 705, 751, 758, 769, 772, 786, 787, 820, 824, 831, 847, 857, 861, 882, 894, 903, 908, 917, 922, 965, 1005, 1040, 1052, 1057, 1060, 1109, 1120, 1126, 1129, 1159, 1172, 1258, 1281, 1320, 1330, 1339, 1344, 1352, 1368, 1369, 1371, 1480, 1508, 1530, 1536, 1550, 1556, 1571, 1595, 1602, 1611, 1659, 1671, 1681, 11, 37, 46, 102, 109, 145, 146, 150, 152, 165, 170, 181, 216, 220, 258, 294, 306, 312, 355, 358, 371, 415, 444, 460, 475, 477, 493, 511, 524, 543, 572, 599, 620, 629, 688, 702, 725, 802, 863, 901, 934, 948, 968, 990, 992, 998, 1024, 1025, 1055, 1084, 1108, 1115, 1130, 1151, 1158, 1174, 1177, 1181, 1205, 1222, 1229, 1269, 1287, 1290, 1308, 1322, 1364, 1367, 1385, 1408, 1409, 1425, 1472, 1525, 1529, 1539, 1557, 1619, 1655, 1660, 1673, 1682, 1698, 1705]\n"
          ]
        }
      ]
    },
    {
      "cell_type": "code",
      "source": [
        "data = []\n",
        "for j in fin:\n",
        "  data.append([l1[j],l2[j]])\n",
        "\n",
        "df = pd.DataFrame(data, columns = [unit, 'tx'])"
      ],
      "metadata": {
        "id": "G4NHyy4o4ClP"
      },
      "execution_count": null,
      "outputs": []
    },
    {
      "cell_type": "code",
      "source": [
        "df.describe().transpose()\n"
      ],
      "metadata": {
        "colab": {
          "base_uri": "https://localhost:8080/",
          "height": 112
        },
        "id": "YmR8tkpyGKZ5",
        "outputId": "b72bf796-fdd8-46f2-aa77-307d9f2f8898"
      },
      "execution_count": null,
      "outputs": [
        {
          "output_type": "execute_result",
          "data": {
            "text/plain": [
              "             count        mean        std    min       25%     50%      75%  \\\n",
              "tmpsVoyage  1188.0   11.958350   5.085354   1.16    7.9125   12.46   16.395   \n",
              "tx          1188.0  114.699495  34.808681  73.00  103.0000  109.00  113.000   \n",
              "\n",
              "               max  \n",
              "tmpsVoyage   19.98  \n",
              "tx          390.00  "
            ],
            "text/html": [
              "\n",
              "  <div id=\"df-45a67226-a64a-49e6-9656-03e6f289e045\">\n",
              "    <div class=\"colab-df-container\">\n",
              "      <div>\n",
              "<style scoped>\n",
              "    .dataframe tbody tr th:only-of-type {\n",
              "        vertical-align: middle;\n",
              "    }\n",
              "\n",
              "    .dataframe tbody tr th {\n",
              "        vertical-align: top;\n",
              "    }\n",
              "\n",
              "    .dataframe thead th {\n",
              "        text-align: right;\n",
              "    }\n",
              "</style>\n",
              "<table border=\"1\" class=\"dataframe\">\n",
              "  <thead>\n",
              "    <tr style=\"text-align: right;\">\n",
              "      <th></th>\n",
              "      <th>count</th>\n",
              "      <th>mean</th>\n",
              "      <th>std</th>\n",
              "      <th>min</th>\n",
              "      <th>25%</th>\n",
              "      <th>50%</th>\n",
              "      <th>75%</th>\n",
              "      <th>max</th>\n",
              "    </tr>\n",
              "  </thead>\n",
              "  <tbody>\n",
              "    <tr>\n",
              "      <th>tmpsVoyage</th>\n",
              "      <td>1188.0</td>\n",
              "      <td>11.958350</td>\n",
              "      <td>5.085354</td>\n",
              "      <td>1.16</td>\n",
              "      <td>7.9125</td>\n",
              "      <td>12.46</td>\n",
              "      <td>16.395</td>\n",
              "      <td>19.98</td>\n",
              "    </tr>\n",
              "    <tr>\n",
              "      <th>tx</th>\n",
              "      <td>1188.0</td>\n",
              "      <td>114.699495</td>\n",
              "      <td>34.808681</td>\n",
              "      <td>73.00</td>\n",
              "      <td>103.0000</td>\n",
              "      <td>109.00</td>\n",
              "      <td>113.000</td>\n",
              "      <td>390.00</td>\n",
              "    </tr>\n",
              "  </tbody>\n",
              "</table>\n",
              "</div>\n",
              "      <button class=\"colab-df-convert\" onclick=\"convertToInteractive('df-45a67226-a64a-49e6-9656-03e6f289e045')\"\n",
              "              title=\"Convert this dataframe to an interactive table.\"\n",
              "              style=\"display:none;\">\n",
              "        \n",
              "  <svg xmlns=\"http://www.w3.org/2000/svg\" height=\"24px\"viewBox=\"0 0 24 24\"\n",
              "       width=\"24px\">\n",
              "    <path d=\"M0 0h24v24H0V0z\" fill=\"none\"/>\n",
              "    <path d=\"M18.56 5.44l.94 2.06.94-2.06 2.06-.94-2.06-.94-.94-2.06-.94 2.06-2.06.94zm-11 1L8.5 8.5l.94-2.06 2.06-.94-2.06-.94L8.5 2.5l-.94 2.06-2.06.94zm10 10l.94 2.06.94-2.06 2.06-.94-2.06-.94-.94-2.06-.94 2.06-2.06.94z\"/><path d=\"M17.41 7.96l-1.37-1.37c-.4-.4-.92-.59-1.43-.59-.52 0-1.04.2-1.43.59L10.3 9.45l-7.72 7.72c-.78.78-.78 2.05 0 2.83L4 21.41c.39.39.9.59 1.41.59.51 0 1.02-.2 1.41-.59l7.78-7.78 2.81-2.81c.8-.78.8-2.07 0-2.86zM5.41 20L4 18.59l7.72-7.72 1.47 1.35L5.41 20z\"/>\n",
              "  </svg>\n",
              "      </button>\n",
              "      \n",
              "  <style>\n",
              "    .colab-df-container {\n",
              "      display:flex;\n",
              "      flex-wrap:wrap;\n",
              "      gap: 12px;\n",
              "    }\n",
              "\n",
              "    .colab-df-convert {\n",
              "      background-color: #E8F0FE;\n",
              "      border: none;\n",
              "      border-radius: 50%;\n",
              "      cursor: pointer;\n",
              "      display: none;\n",
              "      fill: #1967D2;\n",
              "      height: 32px;\n",
              "      padding: 0 0 0 0;\n",
              "      width: 32px;\n",
              "    }\n",
              "\n",
              "    .colab-df-convert:hover {\n",
              "      background-color: #E2EBFA;\n",
              "      box-shadow: 0px 1px 2px rgba(60, 64, 67, 0.3), 0px 1px 3px 1px rgba(60, 64, 67, 0.15);\n",
              "      fill: #174EA6;\n",
              "    }\n",
              "\n",
              "    [theme=dark] .colab-df-convert {\n",
              "      background-color: #3B4455;\n",
              "      fill: #D2E3FC;\n",
              "    }\n",
              "\n",
              "    [theme=dark] .colab-df-convert:hover {\n",
              "      background-color: #434B5C;\n",
              "      box-shadow: 0px 1px 3px 1px rgba(0, 0, 0, 0.15);\n",
              "      filter: drop-shadow(0px 1px 2px rgba(0, 0, 0, 0.3));\n",
              "      fill: #FFFFFF;\n",
              "    }\n",
              "  </style>\n",
              "\n",
              "      <script>\n",
              "        const buttonEl =\n",
              "          document.querySelector('#df-45a67226-a64a-49e6-9656-03e6f289e045 button.colab-df-convert');\n",
              "        buttonEl.style.display =\n",
              "          google.colab.kernel.accessAllowed ? 'block' : 'none';\n",
              "\n",
              "        async function convertToInteractive(key) {\n",
              "          const element = document.querySelector('#df-45a67226-a64a-49e6-9656-03e6f289e045');\n",
              "          const dataTable =\n",
              "            await google.colab.kernel.invokeFunction('convertToInteractive',\n",
              "                                                     [key], {});\n",
              "          if (!dataTable) return;\n",
              "\n",
              "          const docLinkHtml = 'Like what you see? Visit the ' +\n",
              "            '<a target=\"_blank\" href=https://colab.research.google.com/notebooks/data_table.ipynb>data table notebook</a>'\n",
              "            + ' to learn more about interactive tables.';\n",
              "          element.innerHTML = '';\n",
              "          dataTable['output_type'] = 'display_data';\n",
              "          await google.colab.output.renderOutput(dataTable, element);\n",
              "          const docLink = document.createElement('div');\n",
              "          docLink.innerHTML = docLinkHtml;\n",
              "          element.appendChild(docLink);\n",
              "        }\n",
              "      </script>\n",
              "    </div>\n",
              "  </div>\n",
              "  "
            ]
          },
          "metadata": {},
          "execution_count": 6
        }
      ]
    },
    {
      "cell_type": "code",
      "source": [
        "sns.pairplot(df[['tx', unit]], diag_kind='kde')\n"
      ],
      "metadata": {
        "colab": {
          "base_uri": "https://localhost:8080/",
          "height": 392
        },
        "id": "61rwuLiH39h5",
        "outputId": "9a169092-5c43-4f7b-e518-bbc943b3758e"
      },
      "execution_count": null,
      "outputs": [
        {
          "output_type": "execute_result",
          "data": {
            "text/plain": [
              "<seaborn.axisgrid.PairGrid at 0x7fc13a28ba90>"
            ]
          },
          "metadata": {},
          "execution_count": 7
        },
        {
          "output_type": "display_data",
          "data": {
            "text/plain": [
              "<Figure size 360x360 with 6 Axes>"
            ],
            "image/png": "[encoded data removed]"
          },
          "metadata": {
            "needs_background": "light"
          }
        }
      ]
    },
    {
      "cell_type": "code",
      "source": [
        "dataset = df.copy()\n",
        "dataset.tail()\n",
        "\n",
        "train_dataset = dataset.sample(frac=0.8, random_state=0)\n",
        "test_dataset = dataset.drop(train_dataset.index)\n",
        "\n",
        "train_dataset.describe().transpose()"
      ],
      "metadata": {
        "colab": {
          "base_uri": "https://localhost:8080/",
          "height": 112
        },
        "id": "kMOCOvCR8-up",
        "outputId": "3680ebf7-ff20-430e-b94d-dc6ed0b00b75"
      },
      "execution_count": null,
      "outputs": [
        {
          "output_type": "execute_result",
          "data": {
            "text/plain": [
              "            count        mean        std    min      25%    50%      75%  \\\n",
              "tmpsVoyage  950.0   11.931642   5.061917   1.16    7.995   12.4   16.335   \n",
              "tx          950.0  115.134737  36.135513  74.00  103.000  109.0  113.000   \n",
              "\n",
              "               max  \n",
              "tmpsVoyage   19.98  \n",
              "tx          390.00  "
            ],
            "text/html": [
              "\n",
              "  <div id=\"df-4650c54e-f3d7-422e-ba0f-54b57cc49289\">\n",
              "    <div class=\"colab-df-container\">\n",
              "      <div>\n",
              "<style scoped>\n",
              "    .dataframe tbody tr th:only-of-type {\n",
              "        vertical-align: middle;\n",
              "    }\n",
              "\n",
              "    .dataframe tbody tr th {\n",
              "        vertical-align: top;\n",
              "    }\n",
              "\n",
              "    .dataframe thead th {\n",
              "        text-align: right;\n",
              "    }\n",
              "</style>\n",
              "<table border=\"1\" class=\"dataframe\">\n",
              "  <thead>\n",
              "    <tr style=\"text-align: right;\">\n",
              "      <th></th>\n",
              "      <th>count</th>\n",
              "      <th>mean</th>\n",
              "      <th>std</th>\n",
              "      <th>min</th>\n",
              "      <th>25%</th>\n",
              "      <th>50%</th>\n",
              "      <th>75%</th>\n",
              "      <th>max</th>\n",
              "    </tr>\n",
              "  </thead>\n",
              "  <tbody>\n",
              "    <tr>\n",
              "      <th>tmpsVoyage</th>\n",
              "      <td>950.0</td>\n",
              "      <td>11.931642</td>\n",
              "      <td>5.061917</td>\n",
              "      <td>1.16</td>\n",
              "      <td>7.995</td>\n",
              "      <td>12.4</td>\n",
              "      <td>16.335</td>\n",
              "      <td>19.98</td>\n",
              "    </tr>\n",
              "    <tr>\n",
              "      <th>tx</th>\n",
              "      <td>950.0</td>\n",
              "      <td>115.134737</td>\n",
              "      <td>36.135513</td>\n",
              "      <td>74.00</td>\n",
              "      <td>103.000</td>\n",
              "      <td>109.0</td>\n",
              "      <td>113.000</td>\n",
              "      <td>390.00</td>\n",
              "    </tr>\n",
              "  </tbody>\n",
              "</table>\n",
              "</div>\n",
              "      <button class=\"colab-df-convert\" onclick=\"convertToInteractive('df-4650c54e-f3d7-422e-ba0f-54b57cc49289')\"\n",
              "              title=\"Convert this dataframe to an interactive table.\"\n",
              "              style=\"display:none;\">\n",
              "        \n",
              "  <svg xmlns=\"http://www.w3.org/2000/svg\" height=\"24px\"viewBox=\"0 0 24 24\"\n",
              "       width=\"24px\">\n",
              "    <path d=\"M0 0h24v24H0V0z\" fill=\"none\"/>\n",
              "    <path d=\"M18.56 5.44l.94 2.06.94-2.06 2.06-.94-2.06-.94-.94-2.06-.94 2.06-2.06.94zm-11 1L8.5 8.5l.94-2.06 2.06-.94-2.06-.94L8.5 2.5l-.94 2.06-2.06.94zm10 10l.94 2.06.94-2.06 2.06-.94-2.06-.94-.94-2.06-.94 2.06-2.06.94z\"/><path d=\"M17.41 7.96l-1.37-1.37c-.4-.4-.92-.59-1.43-.59-.52 0-1.04.2-1.43.59L10.3 9.45l-7.72 7.72c-.78.78-.78 2.05 0 2.83L4 21.41c.39.39.9.59 1.41.59.51 0 1.02-.2 1.41-.59l7.78-7.78 2.81-2.81c.8-.78.8-2.07 0-2.86zM5.41 20L4 18.59l7.72-7.72 1.47 1.35L5.41 20z\"/>\n",
              "  </svg>\n",
              "      </button>\n",
              "      \n",
              "  <style>\n",
              "    .colab-df-container {\n",
              "      display:flex;\n",
              "      flex-wrap:wrap;\n",
              "      gap: 12px;\n",
              "    }\n",
              "\n",
              "    .colab-df-convert {\n",
              "      background-color: #E8F0FE;\n",
              "      border: none;\n",
              "      border-radius: 50%;\n",
              "      cursor: pointer;\n",
              "      display: none;\n",
              "      fill: #1967D2;\n",
              "      height: 32px;\n",
              "      padding: 0 0 0 0;\n",
              "      width: 32px;\n",
              "    }\n",
              "\n",
              "    .colab-df-convert:hover {\n",
              "      background-color: #E2EBFA;\n",
              "      box-shadow: 0px 1px 2px rgba(60, 64, 67, 0.3), 0px 1px 3px 1px rgba(60, 64, 67, 0.15);\n",
              "      fill: #174EA6;\n",
              "    }\n",
              "\n",
              "    [theme=dark] .colab-df-convert {\n",
              "      background-color: #3B4455;\n",
              "      fill: #D2E3FC;\n",
              "    }\n",
              "\n",
              "    [theme=dark] .colab-df-convert:hover {\n",
              "      background-color: #434B5C;\n",
              "      box-shadow: 0px 1px 3px 1px rgba(0, 0, 0, 0.15);\n",
              "      filter: drop-shadow(0px 1px 2px rgba(0, 0, 0, 0.3));\n",
              "      fill: #FFFFFF;\n",
              "    }\n",
              "  </style>\n",
              "\n",
              "      <script>\n",
              "        const buttonEl =\n",
              "          document.querySelector('#df-4650c54e-f3d7-422e-ba0f-54b57cc49289 button.colab-df-convert');\n",
              "        buttonEl.style.display =\n",
              "          google.colab.kernel.accessAllowed ? 'block' : 'none';\n",
              "\n",
              "        async function convertToInteractive(key) {\n",
              "          const element = document.querySelector('#df-4650c54e-f3d7-422e-ba0f-54b57cc49289');\n",
              "          const dataTable =\n",
              "            await google.colab.kernel.invokeFunction('convertToInteractive',\n",
              "                                                     [key], {});\n",
              "          if (!dataTable) return;\n",
              "\n",
              "          const docLinkHtml = 'Like what you see? Visit the ' +\n",
              "            '<a target=\"_blank\" href=https://colab.research.google.com/notebooks/data_table.ipynb>data table notebook</a>'\n",
              "            + ' to learn more about interactive tables.';\n",
              "          element.innerHTML = '';\n",
              "          dataTable['output_type'] = 'display_data';\n",
              "          await google.colab.output.renderOutput(dataTable, element);\n",
              "          const docLink = document.createElement('div');\n",
              "          docLink.innerHTML = docLinkHtml;\n",
              "          element.appendChild(docLink);\n",
              "        }\n",
              "      </script>\n",
              "    </div>\n",
              "  </div>\n",
              "  "
            ]
          },
          "metadata": {},
          "execution_count": 8
        }
      ]
    },
    {
      "cell_type": "code",
      "source": [
        "train_features = train_dataset.copy()\n",
        "test_features = test_dataset.copy()\n",
        "\n",
        "train_labels = train_features.pop('tx')\n",
        "test_labels = test_features.pop('tx')"
      ],
      "metadata": {
        "id": "0Lu1vU2K9NAo"
      },
      "execution_count": null,
      "outputs": []
    },
    {
      "cell_type": "code",
      "source": [
        "normalizer = tf.keras.layers.Normalization(axis=-1)\n",
        "normalizer.adapt(np.array(train_features))\n",
        "\n",
        "horsepower = np.array(train_features[unit])\n",
        "\n",
        "horsepower_normalizer = layers.Normalization(input_shape=[1,], axis=None)\n",
        "horsepower_normalizer.adapt(horsepower)"
      ],
      "metadata": {
        "id": "DUDrnoje9TYM"
      },
      "execution_count": null,
      "outputs": []
    },
    {
      "cell_type": "code",
      "source": [
        "def build_and_compile_model(norm):\n",
        "  model = keras.Sequential([\n",
        "      norm,\n",
        "      layers.Dense(64, activation='relu'),\n",
        "      layers.Dense(64, activation='relu'),\n",
        "      layers.Dense(1)\n",
        "  ])\n",
        "\n",
        "  model.compile(loss='mean_absolute_error',\n",
        "                optimizer=tf.keras.optimizers.Adam(0.001))\n",
        "  return model"
      ],
      "metadata": {
        "id": "CMnBHbEn9esO"
      },
      "execution_count": null,
      "outputs": []
    },
    {
      "cell_type": "code",
      "source": [
        "dnn_horsepower_model = build_and_compile_model(horsepower_normalizer)\n",
        "dnn_horsepower_model.summary()"
      ],
      "metadata": {
        "colab": {
          "base_uri": "https://localhost:8080/"
        },
        "id": "F-M7lR3l9h3m",
        "outputId": "491729a5-7648-4531-de70-2db838737acb"
      },
      "execution_count": null,
      "outputs": [
        {
          "output_type": "stream",
          "name": "stdout",
          "text": [
            "Model: \"sequential_1\"\n",
            "_________________________________________________________________\n",
            " Layer (type)                Output Shape              Param #   \n",
            "=================================================================\n",
            " normalization_3 (Normalizat  (None, 1)                3         \n",
            " ion)                                                            \n",
            "                                                                 \n",
            " dense_3 (Dense)             (None, 64)                128       \n",
            "                                                                 \n",
            " dense_4 (Dense)             (None, 64)                4160      \n",
            "                                                                 \n",
            " dense_5 (Dense)             (None, 1)                 65        \n",
            "                                                                 \n",
            "=================================================================\n",
            "Total params: 4,356\n",
            "Trainable params: 4,353\n",
            "Non-trainable params: 3\n",
            "_________________________________________________________________\n"
          ]
        }
      ]
    },
    {
      "cell_type": "code",
      "source": [
        "%%time\n",
        "history = dnn_horsepower_model.fit(\n",
        "    train_features[unit],\n",
        "    train_labels,\n",
        "    validation_split=0.2,\n",
        "    verbose=0, epochs=1000)"
      ],
      "metadata": {
        "colab": {
          "base_uri": "https://localhost:8080/"
        },
        "id": "FCb4w1fa9sIS",
        "outputId": "249c3f1c-6a31-4880-8c2d-9301bc346480"
      },
      "execution_count": null,
      "outputs": [
        {
          "output_type": "stream",
          "name": "stdout",
          "text": [
            "CPU times: user 1min 5s, sys: 4.63 s, total: 1min 10s\n",
            "Wall time: 1min 4s\n"
          ]
        }
      ]
    },
    {
      "cell_type": "code",
      "source": [
        "def plot_loss(history):\n",
        "  plt.plot(history.history['loss'], label='loss')\n",
        "  plt.plot(history.history['val_loss'], label='val_loss')\n",
        "  plt.ylim([0, 150])\n",
        "  plt.xlabel('Epoch')\n",
        "  plt.ylabel('Error [tx]')\n",
        "  plt.legend()\n",
        "  plt.grid(True)\n",
        "\n",
        "plot_loss(history)"
      ],
      "metadata": {
        "colab": {
          "base_uri": "https://localhost:8080/",
          "height": 279
        },
        "id": "UjRPy9kW9yvN",
        "outputId": "43e76691-06f5-48a6-eadd-bcc7f13086c1"
      },
      "execution_count": null,
      "outputs": [
        {
          "output_type": "display_data",
          "data": {
            "image/png": "[encoded data removed]",
            "text/plain": [
              "<Figure size 432x288 with 1 Axes>"
            ]
          },
          "metadata": {
            "needs_background": "light"
          }
        }
      ]
    },
    {
      "cell_type": "code",
      "source": [
        "x = tf.linspace(0.0, 20, 20)\n",
        "y = dnn_horsepower_model.predict(x)\n",
        "\n",
        "def plot_horsepower(x, y):\n",
        "  plt.scatter(train_features[unit], train_labels, label='Data')\n",
        "  plt.plot(x, y, color='k', label='Predictions')\n",
        "  plt.xlabel(unit)\n",
        "  plt.ylabel('tx')\n",
        "  \n",
        "  plt.legend()\n",
        "\n",
        "plot_horsepower(x, y)"
      ],
      "metadata": {
        "colab": {
          "base_uri": "https://localhost:8080/",
          "height": 280
        },
        "id": "aOxM2-dh-s5B",
        "outputId": "91363007-b7f1-4f4a-a3c3-61d1311e6ed1"
      },
      "execution_count": null,
      "outputs": [
        {
          "output_type": "display_data",
          "data": {
            "image/png": "[encoded data removed]",
            "text/plain": [
              "<Figure size 432x288 with 1 Axes>"
            ]
          },
          "metadata": {
            "needs_background": "light"
          }
        }
      ]
    },
    {
      "cell_type": "code",
      "source": [
        "dnn_horsepower_model.evaluate(\n",
        "    test_features[unit], test_labels,\n",
        "    verbose=0)"
      ],
      "metadata": {
        "colab": {
          "base_uri": "https://localhost:8080/"
        },
        "id": "VLdJ-djOFA-3",
        "outputId": "08b299a7-4b03-40be-ef1a-65efb0d0556a"
      },
      "execution_count": null,
      "outputs": [
        {
          "output_type": "execute_result",
          "data": {
            "text/plain": [
              "8.36691951751709"
            ]
          },
          "metadata": {},
          "execution_count": 35
        }
      ]
    },
    {
      "cell_type": "code",
      "source": [
        "dnn_horsepower_model.predict([80])"
      ],
      "metadata": {
        "colab": {
          "base_uri": "https://localhost:8080/"
        },
        "id": "1wnGfrq3Ksz_",
        "outputId": "28377bfa-e854-42c4-d0d5-1fe6d6d516e1"
      },
      "execution_count": null,
      "outputs": [
        {
          "output_type": "execute_result",
          "data": {
            "text/plain": [
              "array([[10010.445]], dtype=float32)"
            ]
          },
          "metadata": {},
          "execution_count": 34
        }
      ]
    },
    {
      "cell_type": "code",
      "source": [
        "\n",
        "dnn_horsepower_model.save('/content/model_tmpsVoyage.h5')"
      ],
      "metadata": {
        "id": "GRsIbyy1pDAa"
      },
      "execution_count": null,
      "outputs": []
    }
  ]
}